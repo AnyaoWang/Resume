{
 "cells": [
  {
   "cell_type": "markdown",
   "id": "7c2066c1",
   "metadata": {},
   "source": [
    " # Anyao (Anya) Wang"
   ]
  },
  {
   "cell_type": "markdown",
   "id": "181a3e8b",
   "metadata": {},
   "source": [
    "[Linkedin](https://www.linkedin.com/in/anyao-wang/) "
   ]
  },
  {
   "cell_type": "markdown",
   "id": "b189d755",
   "metadata": {},
   "source": [
    "[Github](https://github.com/AnyaoWang)"
   ]
  },
  {
   "cell_type": "markdown",
   "id": "adf4d5db",
   "metadata": {},
   "source": [
    "<anyao.wang.2023@anderson.ucla.edu>"
   ]
  },
  {
   "cell_type": "markdown",
   "id": "da121278",
   "metadata": {},
   "source": [
    "< 814-777-7840 >"
   ]
  },
  {
   "cell_type": "markdown",
   "id": "a5e96365",
   "metadata": {},
   "source": [
    "< Los Angeles, CA >"
   ]
  },
  {
   "cell_type": "markdown",
   "id": "e2b9b684",
   "metadata": {},
   "source": [
    "< US Permanent Resident >"
   ]
  },
  {
   "cell_type": "markdown",
   "id": "a5d009db",
   "metadata": {},
   "source": [
    "< EIT certified engineer >"
   ]
  },
  {
   "cell_type": "markdown",
   "id": "1b27e185",
   "metadata": {},
   "source": [
    "< SM1 Scholar >"
   ]
  },
  {
   "cell_type": "markdown",
   "id": "77759ab4",
   "metadata": {},
   "source": [
    "Gritty and versatile problem analyzer and solver with three years of experience bidding, analyzing, designing and leading teams to win multiple million-dollar design-build private and public construction projects, **driving 22% profitability**. Current MSBA candidate at UCLA Anderson. English/Mandarin Bilingual with international expertise and perspective from studying and working in three countries."
   ]
  },
  {
   "cell_type": "markdown",
   "id": "c3db7210",
   "metadata": {},
   "source": [
    "## EDUCATION"
   ]
  },
  {
   "cell_type": "markdown",
   "id": "fd35697c",
   "metadata": {},
   "source": [
    "### UCLA ANDERSON SCHOOL OF MANAGEMENT                                                                                   \n",
    "#### Los Angeles, CA\n",
    "#### *Master of Science in Business Analytics (MSBA)*"
   ]
  },
  {
   "cell_type": "markdown",
   "id": "f9beef2a",
   "metadata": {},
   "source": [
    "*Expected December 2023*"
   ]
  },
  {
   "cell_type": "markdown",
   "id": "5b459887",
   "metadata": {},
   "source": [
    "Machine Learning, Data Management, Prescriptive Models, Operations Analytics, Customer Analytics, Competitive Analytics"
   ]
  },
  {
   "cell_type": "markdown",
   "id": "88bd2637",
   "metadata": {},
   "source": [
    "### USC VITERBI SCHOOL OF ENGINEERING                                                                              \n",
    "#### Los Angeles, CA\n",
    "#### *Master of Science in Mechanical Engineering - 3.55GPA*"
   ]
  },
  {
   "cell_type": "markdown",
   "id": "f336ff87",
   "metadata": {},
   "source": [
    "*May 2019*"
   ]
  },
  {
   "cell_type": "markdown",
   "id": "5ca2c161",
   "metadata": {},
   "source": [
    "Advanced Calculus of Financial Engineering, Probability, Economics, Technical Writing"
   ]
  },
  {
   "cell_type": "markdown",
   "id": "5517f38a",
   "metadata": {},
   "source": [
    "### THE PENNSYLVANIA STATE UNIVERSITY, COLLEGE OF ENGINEERING                                                                       \n",
    "#### University Park, PA\n",
    "#### *Bachelor of Science in Mechanical Engineering - 3.64GPA*"
   ]
  },
  {
   "cell_type": "markdown",
   "id": "321ec100",
   "metadata": {},
   "source": [
    "*May 2017*"
   ]
  },
  {
   "cell_type": "markdown",
   "id": "11ad7ad9",
   "metadata": {},
   "source": [
    "Probability Theory, Statistics, Computer Science, Sociology, Photography, Theatre Studies, Film and Media, Fitness and Nutrition"
   ]
  },
  {
   "cell_type": "markdown",
   "id": "b921cd2d",
   "metadata": {},
   "source": [
    "## TECHNICAL SKILLS"
   ]
  },
  {
   "cell_type": "markdown",
   "id": "8e04c627",
   "metadata": {},
   "source": [
    "**Languages** : Python ( Numpy, SciPy, Pandas, Matplotlib, Seaborn, Scikit-learn, PySpark, Tensorflow ), SQL, R, MATLAB, HTML "
   ]
  },
  {
   "cell_type": "markdown",
   "id": "a8e0a953",
   "metadata": {},
   "source": [
    "**Software** :  MySQL, Tableau, Jupyter, RStudio, AutoCAD, AutoBid, Revit, Solidworks, HyperWorks, HyperView, Excel, Mathcad "
   ]
  },
  {
   "cell_type": "markdown",
   "id": "447a5063",
   "metadata": {},
   "source": [
    "**Analytics** : Machine Learning, Statistical Modeling, Data Visualization, Time Series Analysis, A/B Testing "
   ]
  },
  {
   "cell_type": "markdown",
   "id": "895e78c6",
   "metadata": {},
   "source": [
    "**Certifications** : MySQL for Data Analytics and Business Intelligence; Python for Data Science and Machine Learning Bootcamp"
   ]
  },
  {
   "cell_type": "markdown",
   "id": "3533f920",
   "metadata": {},
   "source": [
    "## PROFESSIONAL EXPERIENCE"
   ]
  },
  {
   "cell_type": "markdown",
   "id": "2e49d897",
   "metadata": {},
   "source": [
    "### MURRAY COMPANY                                                                                  \n",
    "#### Rancho Dominguez, CA\n",
    "#### *Engineer/Estimator/Project Engineer*"
   ]
  },
  {
   "cell_type": "markdown",
   "id": "37ea1772",
   "metadata": {},
   "source": [
    "*July 2019 - June 2022*"
   ]
  },
  {
   "cell_type": "markdown",
   "id": "3341ef8b",
   "metadata": {},
   "source": [
    "- Analyzed preliminary project documents, negotiated best prices of materials from suppliers, finalized cost of construction\n",
    "- Generated **over $100M** revenue building labor and design roadmaps to win multiple construction projects including Los Angeles International Airport T4, new Inglewood Stadium, Google Westside, and multiple hospitals, hotels, and condo developments\n",
    "- Created **22% profits** by leading team to win design-build projects including LAX T0, T1 Renovation, Chargers Training Facility, Gaylord Pacific Parking, and multiple school medical buildings\n",
    "- **Increased construction efficiency by 10%** by optimizing plumbing design and cost forecast to support project management\n",
    "- Reduced **20%** labor hours by increasing collaboration between estimating and engineering teams"
   ]
  },
  {
   "cell_type": "markdown",
   "id": "61c8fe62",
   "metadata": {},
   "source": [
    "### UNIVERSITY OF SOUTHERN CALIFORNIA                                                                                  \n",
    "#### Los Angeles, CA\n",
    "#### *Research Analyst*"
   ]
  },
  {
   "cell_type": "markdown",
   "id": "5efe6231",
   "metadata": {},
   "source": [
    "*January 2019 - May 2019*"
   ]
  },
  {
   "cell_type": "markdown",
   "id": "49209618",
   "metadata": {},
   "source": [
    "- Researched, analyzed 5 papers to reduce energy costs and reported insights using demand response technologies in water sectors"
   ]
  },
  {
   "cell_type": "markdown",
   "id": "c6f47911",
   "metadata": {},
   "source": [
    "### BERNARDS CONSTRUCTION                                                                                  \n",
    "#### San Fernando, CA\n",
    "#### *Estimating Intern*"
   ]
  },
  {
   "cell_type": "markdown",
   "id": "51d5dd81",
   "metadata": {},
   "source": [
    "*May 2018 - August 2018*"
   ]
  },
  {
   "cell_type": "markdown",
   "id": "a32f0281",
   "metadata": {},
   "source": [
    "- Proposed **20%** cost reduction by analyzing construction plans required for 12 project cost estimates"
   ]
  },
  {
   "cell_type": "markdown",
   "id": "358fe655",
   "metadata": {},
   "source": [
    "### F-TECH R&D NORTH AMERICA                                                                                 \n",
    "#### Troy, OH\n",
    "#### *Product Engineering Analyst*"
   ]
  },
  {
   "cell_type": "markdown",
   "id": "1481ec32",
   "metadata": {},
   "source": [
    "*May 2016 - August 2016*"
   ]
  },
  {
   "cell_type": "markdown",
   "id": "48103695",
   "metadata": {},
   "source": [
    "- Analyzed 7 Finite Element models on automobiles’ skeleton stiffness and durability and compiled data for chassis designs\n",
    "- Increased accuracy by **10%** through collecting and visualizing optimal measurements for 4 automotive suspension components\n",
    "- Presented final findings and provided guidance on data navigation and approval required for production"
   ]
  },
  {
   "cell_type": "markdown",
   "id": "821a0a76",
   "metadata": {},
   "source": [
    "### CULTURE IMMERSIVE STUDENT ORGANIZATION                                                                                 \n",
    "#### University Park, PA\n",
    "#### *Lead Student Ambassador*"
   ]
  },
  {
   "cell_type": "markdown",
   "id": "fcc019d5",
   "metadata": {},
   "source": [
    "*May 2016 - May 2017*"
   ]
  },
  {
   "cell_type": "markdown",
   "id": "3e7d7b6c",
   "metadata": {},
   "source": [
    "- Coached orientation leaders, increased engagement among new students for smooth and positive transitions into university life"
   ]
  },
  {
   "cell_type": "markdown",
   "id": "d8316bc0",
   "metadata": {},
   "source": [
    "## DATA ANALYTICS PROJECTS"
   ]
  },
  {
   "cell_type": "markdown",
   "id": "4ba1ecb8",
   "metadata": {},
   "source": [
    "**Mood Fitness Relationship**: Constructed Multivariate Regression Model with Principal Components Analysis in R (Dplyr) and\n",
    "identified 2 main factors that have the largest impact on mood, which are step counts and calories burned"
   ]
  },
  {
   "cell_type": "markdown",
   "id": "abcc5a68",
   "metadata": {},
   "source": [
    "**Employees Database Analysis**: Analyzed relationship among genders, departments, salaries, managers within the company every year using SQL. Presented 4 Charts and 1 Dashboard in Tableau, proving expertise in coding, data analysis and presentation"
   ]
  }
 ],
 "metadata": {
  "kernelspec": {
   "display_name": "Python 3 (ipykernel)",
   "language": "python",
   "name": "python3"
  },
  "language_info": {
   "codemirror_mode": {
    "name": "ipython",
    "version": 3
   },
   "file_extension": ".py",
   "mimetype": "text/x-python",
   "name": "python",
   "nbconvert_exporter": "python",
   "pygments_lexer": "ipython3",
   "version": "3.9.12"
  }
 },
 "nbformat": 4,
 "nbformat_minor": 5
}
